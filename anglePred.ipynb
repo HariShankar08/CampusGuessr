{
  "cells": [
    {
      "cell_type": "code",
      "execution_count": 1,
      "metadata": {
        "id": "jdTpfHh0rwth"
      },
      "outputs": [
        {
          "name": "stdout",
          "output_type": "stream",
          "text": [
            "Requirement already satisfied: kaggle in /system/conda/miniconda3/envs/cloudspace/lib/python3.10/site-packages (1.7.4.2)\n",
            "Requirement already satisfied: bleach in /system/conda/miniconda3/envs/cloudspace/lib/python3.10/site-packages (from kaggle) (6.2.0)\n",
            "Requirement already satisfied: certifi>=14.05.14 in /system/conda/miniconda3/envs/cloudspace/lib/python3.10/site-packages (from kaggle) (2025.1.31)\n",
            "Requirement already satisfied: charset-normalizer in /system/conda/miniconda3/envs/cloudspace/lib/python3.10/site-packages (from kaggle) (3.4.1)\n",
            "Requirement already satisfied: idna in /system/conda/miniconda3/envs/cloudspace/lib/python3.10/site-packages (from kaggle) (3.10)\n",
            "Requirement already satisfied: protobuf in /system/conda/miniconda3/envs/cloudspace/lib/python3.10/site-packages (from kaggle) (4.23.4)\n",
            "Requirement already satisfied: python-dateutil>=2.5.3 in /system/conda/miniconda3/envs/cloudspace/lib/python3.10/site-packages (from kaggle) (2.9.0.post0)\n",
            "Requirement already satisfied: python-slugify in /system/conda/miniconda3/envs/cloudspace/lib/python3.10/site-packages (from kaggle) (8.0.4)\n",
            "Requirement already satisfied: requests in /system/conda/miniconda3/envs/cloudspace/lib/python3.10/site-packages (from kaggle) (2.32.3)\n",
            "Requirement already satisfied: setuptools>=21.0.0 in /system/conda/miniconda3/envs/cloudspace/lib/python3.10/site-packages (from kaggle) (75.8.0)\n",
            "Requirement already satisfied: six>=1.10 in /system/conda/miniconda3/envs/cloudspace/lib/python3.10/site-packages (from kaggle) (1.17.0)\n",
            "Requirement already satisfied: text-unidecode in /system/conda/miniconda3/envs/cloudspace/lib/python3.10/site-packages (from kaggle) (1.3)\n",
            "Requirement already satisfied: tqdm in /system/conda/miniconda3/envs/cloudspace/lib/python3.10/site-packages (from kaggle) (4.67.1)\n",
            "Requirement already satisfied: urllib3>=1.15.1 in /system/conda/miniconda3/envs/cloudspace/lib/python3.10/site-packages (from kaggle) (2.4.0)\n",
            "Requirement already satisfied: webencodings in /system/conda/miniconda3/envs/cloudspace/lib/python3.10/site-packages (from kaggle) (0.5.1)\n",
            "\n",
            "\u001b[1m[\u001b[0m\u001b[34;49mnotice\u001b[0m\u001b[1;39;49m]\u001b[0m\u001b[39;49m A new release of pip is available: \u001b[0m\u001b[31;49m25.0.1\u001b[0m\u001b[39;49m -> \u001b[0m\u001b[32;49m25.1.1\u001b[0m\n",
            "\u001b[1m[\u001b[0m\u001b[34;49mnotice\u001b[0m\u001b[1;39;49m]\u001b[0m\u001b[39;49m To update, run: \u001b[0m\u001b[32;49mpip install --upgrade pip\u001b[0m\n"
          ]
        }
      ],
      "source": [
        "!pip install kaggle"
      ]
    },
    {
      "cell_type": "code",
      "execution_count": 2,
      "metadata": {
        "id": "PVoKtgXBr_hn"
      },
      "outputs": [
        {
          "name": "stdout",
          "output_type": "stream",
          "text": [
            "mkdir: cannot create directory ‘/teamspace/studios/this_studio/.kaggle’: File exists\n"
          ]
        }
      ],
      "source": [
        "! mkdir ~/.kaggle\n",
        "\n",
        "! cp kaggle.json ~/.kaggle/"
      ]
    },
    {
      "cell_type": "code",
      "execution_count": 3,
      "metadata": {
        "id": "jlhmbJQ0sEX_"
      },
      "outputs": [],
      "source": [
        "! chmod 600 ~/.kaggle/kaggle.json"
      ]
    },
    {
      "cell_type": "code",
      "execution_count": 4,
      "metadata": {
        "id": "wrDAWQsYsGf9"
      },
      "outputs": [
        {
          "name": "stdout",
          "output_type": "stream",
          "text": [
            "smai-s-25-section-a-project-phase-2.zip: Skipping, found more recently modified local copy (use --force to force download)\n"
          ]
        }
      ],
      "source": [
        "! kaggle competitions download -c smai-s-25-section-a-project-phase-2"
      ]
    },
    {
      "cell_type": "code",
      "execution_count": 5,
      "metadata": {
        "colab": {
          "base_uri": "https://localhost:8080/"
        },
        "id": "5u5-VJnlsNbd",
        "outputId": "43891d95-00e7-4373-ec85-3e70bece9b03"
      },
      "outputs": [
        {
          "name": "stdout",
          "output_type": "stream",
          "text": [
            "Archive:  smai-s-25-section-a-project-phase-2.zip\n",
            "replace images_train/images_train/img_0000.jpg? [y]es, [n]o, [A]ll, [N]one, [r]ename: ^C\n"
          ]
        }
      ],
      "source": [
        "!unzip smai-s-25-section-a-project-phase-2.zip"
      ]
    },
    {
      "cell_type": "code",
      "execution_count": 6,
      "metadata": {
        "colab": {
          "base_uri": "https://localhost:8080/",
          "height": 254,
          "referenced_widgets": [
            "a6698886dcc14c16aab65671187ef555",
            "99404817e9594aafa8a8df12df675321",
            "8e6d038b9964433fbb7e8a7435ab2788",
            "22bfa75086f6494db78fbd85ee7cef54",
            "bf2f15c90e5a4b20b40a8dd19cbda29b",
            "4cdda3eb8e6a4ae1b2a08f69c0f135f1",
            "24099b182a394229b1860290950dbad0",
            "69e53a804078418bb70cff0a791cdbe7",
            "3788178f98ce48dd8a2a590a1aaf4552",
            "89f41bd1b3eb45ca9d9d6f267f0defc5",
            "fd4246d96c62415e96adc0fe6389b584",
            "310bbcec2fff4792af0d5fb92759fc06",
            "2eeaa180733d4913a872ae39caa5468e",
            "502df5506f0f490c9594fc8e88a0c80a",
            "e82655d33ef547d2ad4935dd5c891418",
            "121bd4e55e1643e7aea314328eaa2215",
            "ec9bae26266d45ea9eb48a9921b6c615",
            "3d9c9c2ef9ea4f98ba831cdefd6ef3a9",
            "8284450e53e2429a85caec628bcbbc12",
            "6eceaafca89947e4b1868c035d0975b5",
            "0f0808a8943a45658575d885aae6f12a",
            "37730725ecc04deda525f21b3b8746ba",
            "79d1139663b447d0bd92ded0cad89f10",
            "6d3660eb1b3a48daa986027ea1114a6f",
            "76166ca492b04018a8b8b84fd13fd56a",
            "5bb067d6350c4e66b6adf9b42beb8531",
            "4e0e849e28da4994a3e348483d853630",
            "425bb3569309404dbfccdffbaf1e036d",
            "15509ac4c2f44eea9c57ad0538bf06d4",
            "78c106f689b846468ac384035a05d848",
            "78b2c2afa8df43cbb05dbc1efa47e539",
            "309315ea4fc445aeb65d1e7b1ea7ee46",
            "b699aee110f742848b0f7dccb158a5b9"
          ]
        },
        "id": "pN5r9wQ4sUTD",
        "outputId": "29d92a2d-f250-40bd-b902-db93aa42c439"
      },
      "outputs": [
        {
          "name": "stderr",
          "output_type": "stream",
          "text": [
            "Using a slow image processor as `use_fast` is unset and a slow processor was saved with this model. `use_fast=True` will be the default behavior in v4.52, even if the model was saved with a slow processor. This will result in minor differences in outputs. You'll still be able to use a slow processor with `use_fast=False`.\n"
          ]
        }
      ],
      "source": [
        "from transformers import AutoModelForImageClassification, AutoImageProcessor\n",
        "\n",
        "model_path = 'facebook/convnext-large-224-22k-1k'\n",
        "model = AutoModelForImageClassification.from_pretrained(model_path)\n",
        "processor = AutoImageProcessor.from_pretrained(model_path)"
      ]
    },
    {
      "cell_type": "code",
      "execution_count": 7,
      "metadata": {
        "colab": {
          "base_uri": "https://localhost:8080/"
        },
        "id": "kFypVys8sav3",
        "outputId": "859de792-9bd4-4f90-dc00-4704a2de3ed9"
      },
      "outputs": [
        {
          "data": {
            "text/plain": [
              "ConvNextForImageClassification(\n",
              "  (convnext): ConvNextModel(\n",
              "    (embeddings): ConvNextEmbeddings(\n",
              "      (patch_embeddings): Conv2d(3, 192, kernel_size=(4, 4), stride=(4, 4))\n",
              "      (layernorm): ConvNextLayerNorm()\n",
              "    )\n",
              "    (encoder): ConvNextEncoder(\n",
              "      (stages): ModuleList(\n",
              "        (0): ConvNextStage(\n",
              "          (downsampling_layer): Identity()\n",
              "          (layers): Sequential(\n",
              "            (0): ConvNextLayer(\n",
              "              (dwconv): Conv2d(192, 192, kernel_size=(7, 7), stride=(1, 1), padding=(3, 3), groups=192)\n",
              "              (layernorm): ConvNextLayerNorm()\n",
              "              (pwconv1): Linear(in_features=192, out_features=768, bias=True)\n",
              "              (act): GELUActivation()\n",
              "              (pwconv2): Linear(in_features=768, out_features=192, bias=True)\n",
              "              (drop_path): Identity()\n",
              "            )\n",
              "            (1): ConvNextLayer(\n",
              "              (dwconv): Conv2d(192, 192, kernel_size=(7, 7), stride=(1, 1), padding=(3, 3), groups=192)\n",
              "              (layernorm): ConvNextLayerNorm()\n",
              "              (pwconv1): Linear(in_features=192, out_features=768, bias=True)\n",
              "              (act): GELUActivation()\n",
              "              (pwconv2): Linear(in_features=768, out_features=192, bias=True)\n",
              "              (drop_path): Identity()\n",
              "            )\n",
              "            (2): ConvNextLayer(\n",
              "              (dwconv): Conv2d(192, 192, kernel_size=(7, 7), stride=(1, 1), padding=(3, 3), groups=192)\n",
              "              (layernorm): ConvNextLayerNorm()\n",
              "              (pwconv1): Linear(in_features=192, out_features=768, bias=True)\n",
              "              (act): GELUActivation()\n",
              "              (pwconv2): Linear(in_features=768, out_features=192, bias=True)\n",
              "              (drop_path): Identity()\n",
              "            )\n",
              "          )\n",
              "        )\n",
              "        (1): ConvNextStage(\n",
              "          (downsampling_layer): Sequential(\n",
              "            (0): ConvNextLayerNorm()\n",
              "            (1): Conv2d(192, 384, kernel_size=(2, 2), stride=(2, 2))\n",
              "          )\n",
              "          (layers): Sequential(\n",
              "            (0): ConvNextLayer(\n",
              "              (dwconv): Conv2d(384, 384, kernel_size=(7, 7), stride=(1, 1), padding=(3, 3), groups=384)\n",
              "              (layernorm): ConvNextLayerNorm()\n",
              "              (pwconv1): Linear(in_features=384, out_features=1536, bias=True)\n",
              "              (act): GELUActivation()\n",
              "              (pwconv2): Linear(in_features=1536, out_features=384, bias=True)\n",
              "              (drop_path): Identity()\n",
              "            )\n",
              "            (1): ConvNextLayer(\n",
              "              (dwconv): Conv2d(384, 384, kernel_size=(7, 7), stride=(1, 1), padding=(3, 3), groups=384)\n",
              "              (layernorm): ConvNextLayerNorm()\n",
              "              (pwconv1): Linear(in_features=384, out_features=1536, bias=True)\n",
              "              (act): GELUActivation()\n",
              "              (pwconv2): Linear(in_features=1536, out_features=384, bias=True)\n",
              "              (drop_path): Identity()\n",
              "            )\n",
              "            (2): ConvNextLayer(\n",
              "              (dwconv): Conv2d(384, 384, kernel_size=(7, 7), stride=(1, 1), padding=(3, 3), groups=384)\n",
              "              (layernorm): ConvNextLayerNorm()\n",
              "              (pwconv1): Linear(in_features=384, out_features=1536, bias=True)\n",
              "              (act): GELUActivation()\n",
              "              (pwconv2): Linear(in_features=1536, out_features=384, bias=True)\n",
              "              (drop_path): Identity()\n",
              "            )\n",
              "          )\n",
              "        )\n",
              "        (2): ConvNextStage(\n",
              "          (downsampling_layer): Sequential(\n",
              "            (0): ConvNextLayerNorm()\n",
              "            (1): Conv2d(384, 768, kernel_size=(2, 2), stride=(2, 2))\n",
              "          )\n",
              "          (layers): Sequential(\n",
              "            (0): ConvNextLayer(\n",
              "              (dwconv): Conv2d(768, 768, kernel_size=(7, 7), stride=(1, 1), padding=(3, 3), groups=768)\n",
              "              (layernorm): ConvNextLayerNorm()\n",
              "              (pwconv1): Linear(in_features=768, out_features=3072, bias=True)\n",
              "              (act): GELUActivation()\n",
              "              (pwconv2): Linear(in_features=3072, out_features=768, bias=True)\n",
              "              (drop_path): Identity()\n",
              "            )\n",
              "            (1): ConvNextLayer(\n",
              "              (dwconv): Conv2d(768, 768, kernel_size=(7, 7), stride=(1, 1), padding=(3, 3), groups=768)\n",
              "              (layernorm): ConvNextLayerNorm()\n",
              "              (pwconv1): Linear(in_features=768, out_features=3072, bias=True)\n",
              "              (act): GELUActivation()\n",
              "              (pwconv2): Linear(in_features=3072, out_features=768, bias=True)\n",
              "              (drop_path): Identity()\n",
              "            )\n",
              "            (2): ConvNextLayer(\n",
              "              (dwconv): Conv2d(768, 768, kernel_size=(7, 7), stride=(1, 1), padding=(3, 3), groups=768)\n",
              "              (layernorm): ConvNextLayerNorm()\n",
              "              (pwconv1): Linear(in_features=768, out_features=3072, bias=True)\n",
              "              (act): GELUActivation()\n",
              "              (pwconv2): Linear(in_features=3072, out_features=768, bias=True)\n",
              "              (drop_path): Identity()\n",
              "            )\n",
              "            (3): ConvNextLayer(\n",
              "              (dwconv): Conv2d(768, 768, kernel_size=(7, 7), stride=(1, 1), padding=(3, 3), groups=768)\n",
              "              (layernorm): ConvNextLayerNorm()\n",
              "              (pwconv1): Linear(in_features=768, out_features=3072, bias=True)\n",
              "              (act): GELUActivation()\n",
              "              (pwconv2): Linear(in_features=3072, out_features=768, bias=True)\n",
              "              (drop_path): Identity()\n",
              "            )\n",
              "            (4): ConvNextLayer(\n",
              "              (dwconv): Conv2d(768, 768, kernel_size=(7, 7), stride=(1, 1), padding=(3, 3), groups=768)\n",
              "              (layernorm): ConvNextLayerNorm()\n",
              "              (pwconv1): Linear(in_features=768, out_features=3072, bias=True)\n",
              "              (act): GELUActivation()\n",
              "              (pwconv2): Linear(in_features=3072, out_features=768, bias=True)\n",
              "              (drop_path): Identity()\n",
              "            )\n",
              "            (5): ConvNextLayer(\n",
              "              (dwconv): Conv2d(768, 768, kernel_size=(7, 7), stride=(1, 1), padding=(3, 3), groups=768)\n",
              "              (layernorm): ConvNextLayerNorm()\n",
              "              (pwconv1): Linear(in_features=768, out_features=3072, bias=True)\n",
              "              (act): GELUActivation()\n",
              "              (pwconv2): Linear(in_features=3072, out_features=768, bias=True)\n",
              "              (drop_path): Identity()\n",
              "            )\n",
              "            (6): ConvNextLayer(\n",
              "              (dwconv): Conv2d(768, 768, kernel_size=(7, 7), stride=(1, 1), padding=(3, 3), groups=768)\n",
              "              (layernorm): ConvNextLayerNorm()\n",
              "              (pwconv1): Linear(in_features=768, out_features=3072, bias=True)\n",
              "              (act): GELUActivation()\n",
              "              (pwconv2): Linear(in_features=3072, out_features=768, bias=True)\n",
              "              (drop_path): Identity()\n",
              "            )\n",
              "            (7): ConvNextLayer(\n",
              "              (dwconv): Conv2d(768, 768, kernel_size=(7, 7), stride=(1, 1), padding=(3, 3), groups=768)\n",
              "              (layernorm): ConvNextLayerNorm()\n",
              "              (pwconv1): Linear(in_features=768, out_features=3072, bias=True)\n",
              "              (act): GELUActivation()\n",
              "              (pwconv2): Linear(in_features=3072, out_features=768, bias=True)\n",
              "              (drop_path): Identity()\n",
              "            )\n",
              "            (8): ConvNextLayer(\n",
              "              (dwconv): Conv2d(768, 768, kernel_size=(7, 7), stride=(1, 1), padding=(3, 3), groups=768)\n",
              "              (layernorm): ConvNextLayerNorm()\n",
              "              (pwconv1): Linear(in_features=768, out_features=3072, bias=True)\n",
              "              (act): GELUActivation()\n",
              "              (pwconv2): Linear(in_features=3072, out_features=768, bias=True)\n",
              "              (drop_path): Identity()\n",
              "            )\n",
              "            (9): ConvNextLayer(\n",
              "              (dwconv): Conv2d(768, 768, kernel_size=(7, 7), stride=(1, 1), padding=(3, 3), groups=768)\n",
              "              (layernorm): ConvNextLayerNorm()\n",
              "              (pwconv1): Linear(in_features=768, out_features=3072, bias=True)\n",
              "              (act): GELUActivation()\n",
              "              (pwconv2): Linear(in_features=3072, out_features=768, bias=True)\n",
              "              (drop_path): Identity()\n",
              "            )\n",
              "            (10): ConvNextLayer(\n",
              "              (dwconv): Conv2d(768, 768, kernel_size=(7, 7), stride=(1, 1), padding=(3, 3), groups=768)\n",
              "              (layernorm): ConvNextLayerNorm()\n",
              "              (pwconv1): Linear(in_features=768, out_features=3072, bias=True)\n",
              "              (act): GELUActivation()\n",
              "              (pwconv2): Linear(in_features=3072, out_features=768, bias=True)\n",
              "              (drop_path): Identity()\n",
              "            )\n",
              "            (11): ConvNextLayer(\n",
              "              (dwconv): Conv2d(768, 768, kernel_size=(7, 7), stride=(1, 1), padding=(3, 3), groups=768)\n",
              "              (layernorm): ConvNextLayerNorm()\n",
              "              (pwconv1): Linear(in_features=768, out_features=3072, bias=True)\n",
              "              (act): GELUActivation()\n",
              "              (pwconv2): Linear(in_features=3072, out_features=768, bias=True)\n",
              "              (drop_path): Identity()\n",
              "            )\n",
              "            (12): ConvNextLayer(\n",
              "              (dwconv): Conv2d(768, 768, kernel_size=(7, 7), stride=(1, 1), padding=(3, 3), groups=768)\n",
              "              (layernorm): ConvNextLayerNorm()\n",
              "              (pwconv1): Linear(in_features=768, out_features=3072, bias=True)\n",
              "              (act): GELUActivation()\n",
              "              (pwconv2): Linear(in_features=3072, out_features=768, bias=True)\n",
              "              (drop_path): Identity()\n",
              "            )\n",
              "            (13): ConvNextLayer(\n",
              "              (dwconv): Conv2d(768, 768, kernel_size=(7, 7), stride=(1, 1), padding=(3, 3), groups=768)\n",
              "              (layernorm): ConvNextLayerNorm()\n",
              "              (pwconv1): Linear(in_features=768, out_features=3072, bias=True)\n",
              "              (act): GELUActivation()\n",
              "              (pwconv2): Linear(in_features=3072, out_features=768, bias=True)\n",
              "              (drop_path): Identity()\n",
              "            )\n",
              "            (14): ConvNextLayer(\n",
              "              (dwconv): Conv2d(768, 768, kernel_size=(7, 7), stride=(1, 1), padding=(3, 3), groups=768)\n",
              "              (layernorm): ConvNextLayerNorm()\n",
              "              (pwconv1): Linear(in_features=768, out_features=3072, bias=True)\n",
              "              (act): GELUActivation()\n",
              "              (pwconv2): Linear(in_features=3072, out_features=768, bias=True)\n",
              "              (drop_path): Identity()\n",
              "            )\n",
              "            (15): ConvNextLayer(\n",
              "              (dwconv): Conv2d(768, 768, kernel_size=(7, 7), stride=(1, 1), padding=(3, 3), groups=768)\n",
              "              (layernorm): ConvNextLayerNorm()\n",
              "              (pwconv1): Linear(in_features=768, out_features=3072, bias=True)\n",
              "              (act): GELUActivation()\n",
              "              (pwconv2): Linear(in_features=3072, out_features=768, bias=True)\n",
              "              (drop_path): Identity()\n",
              "            )\n",
              "            (16): ConvNextLayer(\n",
              "              (dwconv): Conv2d(768, 768, kernel_size=(7, 7), stride=(1, 1), padding=(3, 3), groups=768)\n",
              "              (layernorm): ConvNextLayerNorm()\n",
              "              (pwconv1): Linear(in_features=768, out_features=3072, bias=True)\n",
              "              (act): GELUActivation()\n",
              "              (pwconv2): Linear(in_features=3072, out_features=768, bias=True)\n",
              "              (drop_path): Identity()\n",
              "            )\n",
              "            (17): ConvNextLayer(\n",
              "              (dwconv): Conv2d(768, 768, kernel_size=(7, 7), stride=(1, 1), padding=(3, 3), groups=768)\n",
              "              (layernorm): ConvNextLayerNorm()\n",
              "              (pwconv1): Linear(in_features=768, out_features=3072, bias=True)\n",
              "              (act): GELUActivation()\n",
              "              (pwconv2): Linear(in_features=3072, out_features=768, bias=True)\n",
              "              (drop_path): Identity()\n",
              "            )\n",
              "            (18): ConvNextLayer(\n",
              "              (dwconv): Conv2d(768, 768, kernel_size=(7, 7), stride=(1, 1), padding=(3, 3), groups=768)\n",
              "              (layernorm): ConvNextLayerNorm()\n",
              "              (pwconv1): Linear(in_features=768, out_features=3072, bias=True)\n",
              "              (act): GELUActivation()\n",
              "              (pwconv2): Linear(in_features=3072, out_features=768, bias=True)\n",
              "              (drop_path): Identity()\n",
              "            )\n",
              "            (19): ConvNextLayer(\n",
              "              (dwconv): Conv2d(768, 768, kernel_size=(7, 7), stride=(1, 1), padding=(3, 3), groups=768)\n",
              "              (layernorm): ConvNextLayerNorm()\n",
              "              (pwconv1): Linear(in_features=768, out_features=3072, bias=True)\n",
              "              (act): GELUActivation()\n",
              "              (pwconv2): Linear(in_features=3072, out_features=768, bias=True)\n",
              "              (drop_path): Identity()\n",
              "            )\n",
              "            (20): ConvNextLayer(\n",
              "              (dwconv): Conv2d(768, 768, kernel_size=(7, 7), stride=(1, 1), padding=(3, 3), groups=768)\n",
              "              (layernorm): ConvNextLayerNorm()\n",
              "              (pwconv1): Linear(in_features=768, out_features=3072, bias=True)\n",
              "              (act): GELUActivation()\n",
              "              (pwconv2): Linear(in_features=3072, out_features=768, bias=True)\n",
              "              (drop_path): Identity()\n",
              "            )\n",
              "            (21): ConvNextLayer(\n",
              "              (dwconv): Conv2d(768, 768, kernel_size=(7, 7), stride=(1, 1), padding=(3, 3), groups=768)\n",
              "              (layernorm): ConvNextLayerNorm()\n",
              "              (pwconv1): Linear(in_features=768, out_features=3072, bias=True)\n",
              "              (act): GELUActivation()\n",
              "              (pwconv2): Linear(in_features=3072, out_features=768, bias=True)\n",
              "              (drop_path): Identity()\n",
              "            )\n",
              "            (22): ConvNextLayer(\n",
              "              (dwconv): Conv2d(768, 768, kernel_size=(7, 7), stride=(1, 1), padding=(3, 3), groups=768)\n",
              "              (layernorm): ConvNextLayerNorm()\n",
              "              (pwconv1): Linear(in_features=768, out_features=3072, bias=True)\n",
              "              (act): GELUActivation()\n",
              "              (pwconv2): Linear(in_features=3072, out_features=768, bias=True)\n",
              "              (drop_path): Identity()\n",
              "            )\n",
              "            (23): ConvNextLayer(\n",
              "              (dwconv): Conv2d(768, 768, kernel_size=(7, 7), stride=(1, 1), padding=(3, 3), groups=768)\n",
              "              (layernorm): ConvNextLayerNorm()\n",
              "              (pwconv1): Linear(in_features=768, out_features=3072, bias=True)\n",
              "              (act): GELUActivation()\n",
              "              (pwconv2): Linear(in_features=3072, out_features=768, bias=True)\n",
              "              (drop_path): Identity()\n",
              "            )\n",
              "            (24): ConvNextLayer(\n",
              "              (dwconv): Conv2d(768, 768, kernel_size=(7, 7), stride=(1, 1), padding=(3, 3), groups=768)\n",
              "              (layernorm): ConvNextLayerNorm()\n",
              "              (pwconv1): Linear(in_features=768, out_features=3072, bias=True)\n",
              "              (act): GELUActivation()\n",
              "              (pwconv2): Linear(in_features=3072, out_features=768, bias=True)\n",
              "              (drop_path): Identity()\n",
              "            )\n",
              "            (25): ConvNextLayer(\n",
              "              (dwconv): Conv2d(768, 768, kernel_size=(7, 7), stride=(1, 1), padding=(3, 3), groups=768)\n",
              "              (layernorm): ConvNextLayerNorm()\n",
              "              (pwconv1): Linear(in_features=768, out_features=3072, bias=True)\n",
              "              (act): GELUActivation()\n",
              "              (pwconv2): Linear(in_features=3072, out_features=768, bias=True)\n",
              "              (drop_path): Identity()\n",
              "            )\n",
              "            (26): ConvNextLayer(\n",
              "              (dwconv): Conv2d(768, 768, kernel_size=(7, 7), stride=(1, 1), padding=(3, 3), groups=768)\n",
              "              (layernorm): ConvNextLayerNorm()\n",
              "              (pwconv1): Linear(in_features=768, out_features=3072, bias=True)\n",
              "              (act): GELUActivation()\n",
              "              (pwconv2): Linear(in_features=3072, out_features=768, bias=True)\n",
              "              (drop_path): Identity()\n",
              "            )\n",
              "          )\n",
              "        )\n",
              "        (3): ConvNextStage(\n",
              "          (downsampling_layer): Sequential(\n",
              "            (0): ConvNextLayerNorm()\n",
              "            (1): Conv2d(768, 1536, kernel_size=(2, 2), stride=(2, 2))\n",
              "          )\n",
              "          (layers): Sequential(\n",
              "            (0): ConvNextLayer(\n",
              "              (dwconv): Conv2d(1536, 1536, kernel_size=(7, 7), stride=(1, 1), padding=(3, 3), groups=1536)\n",
              "              (layernorm): ConvNextLayerNorm()\n",
              "              (pwconv1): Linear(in_features=1536, out_features=6144, bias=True)\n",
              "              (act): GELUActivation()\n",
              "              (pwconv2): Linear(in_features=6144, out_features=1536, bias=True)\n",
              "              (drop_path): Identity()\n",
              "            )\n",
              "            (1): ConvNextLayer(\n",
              "              (dwconv): Conv2d(1536, 1536, kernel_size=(7, 7), stride=(1, 1), padding=(3, 3), groups=1536)\n",
              "              (layernorm): ConvNextLayerNorm()\n",
              "              (pwconv1): Linear(in_features=1536, out_features=6144, bias=True)\n",
              "              (act): GELUActivation()\n",
              "              (pwconv2): Linear(in_features=6144, out_features=1536, bias=True)\n",
              "              (drop_path): Identity()\n",
              "            )\n",
              "            (2): ConvNextLayer(\n",
              "              (dwconv): Conv2d(1536, 1536, kernel_size=(7, 7), stride=(1, 1), padding=(3, 3), groups=1536)\n",
              "              (layernorm): ConvNextLayerNorm()\n",
              "              (pwconv1): Linear(in_features=1536, out_features=6144, bias=True)\n",
              "              (act): GELUActivation()\n",
              "              (pwconv2): Linear(in_features=6144, out_features=1536, bias=True)\n",
              "              (drop_path): Identity()\n",
              "            )\n",
              "          )\n",
              "        )\n",
              "      )\n",
              "    )\n",
              "    (layernorm): LayerNorm((1536,), eps=1e-12, elementwise_affine=True)\n",
              "  )\n",
              "  (classifier): Linear(in_features=1536, out_features=1000, bias=True)\n",
              ")"
            ]
          },
          "execution_count": 7,
          "metadata": {},
          "output_type": "execute_result"
        }
      ],
      "source": [
        "model"
      ]
    },
    {
      "cell_type": "code",
      "execution_count": 8,
      "metadata": {
        "id": "6wxV-vgTsfHs"
      },
      "outputs": [],
      "source": [
        "import torch\n",
        "import torch.nn as nn\n",
        "import torch.nn.functional as F\n",
        "\n",
        "class AngleRegressor(nn.Module):\n",
        "    def __init__(self):\n",
        "        super(AngleRegressor, self).__init__()\n",
        "        self.in_features = 1536\n",
        "\n",
        "        self.model = nn.Sequential(\n",
        "            nn.Linear(self.in_features, 512),\n",
        "            nn.Tanh(),\n",
        "            nn.Linear(512, 128),\n",
        "            nn.Tanh(),\n",
        "            nn.Linear(128, 2)\n",
        "        )\n",
        "\n",
        "    def forward(self, x):\n",
        "        out = self.model(x)\n",
        "        # out = F.normalize(out, p=2, dim=1)  # Ensure valid [sin, cos]\n",
        "        return out\n"
      ]
    },
    {
      "cell_type": "code",
      "execution_count": 9,
      "metadata": {
        "id": "FtG4vmtmsjc_"
      },
      "outputs": [],
      "source": [
        "model.classifier = AngleRegressor()"
      ]
    },
    {
      "cell_type": "code",
      "execution_count": 10,
      "metadata": {
        "id": "Qr4uOa6qslck"
      },
      "outputs": [],
      "source": [
        "import pandas as pd\n",
        "\n",
        "train = pd.read_csv('labels_train.csv')\n",
        "val = pd.read_csv('labels_val.csv')"
      ]
    },
    {
      "cell_type": "code",
      "execution_count": 11,
      "metadata": {
        "id": "60oCYTq6sp1T"
      },
      "outputs": [],
      "source": [
        "train = train[(train.angle >= 0) & (train.angle < 360)]"
      ]
    },
    {
      "cell_type": "code",
      "execution_count": 12,
      "metadata": {
        "id": "5-SCNrTssr_u"
      },
      "outputs": [],
      "source": [
        "import os\n",
        "import torch\n",
        "from torch.utils.data import Dataset\n",
        "from PIL import Image\n",
        "import pandas as pd\n",
        "import math\n",
        "\n",
        "class AngleDataset(Dataset):\n",
        "    def __init__(self, csv_path, image_dir, transform=None):\n",
        "        self.df = pd.read_csv(csv_path)\n",
        "        self.df = self.df[(self.df['angle'] >= 0) & (self.df['angle'] < 360)]  # Filter outliers\n",
        "        self.image_dir = image_dir\n",
        "        self.transform = transform\n",
        "\n",
        "    def __len__(self):\n",
        "        return len(self.df)\n",
        "\n",
        "    def __getitem__(self, idx):\n",
        "        row = self.df.iloc[idx]\n",
        "        img_path = os.path.join(self.image_dir, row['filename'])\n",
        "        image = Image.open(img_path).convert(\"RGB\")\n",
        "\n",
        "        # Apply transforms directly\n",
        "        if self.transform:\n",
        "            pixel_values = self.transform(image)\n",
        "        else:\n",
        "            # Fallback if no transform provided\n",
        "            pixel_values = image\n",
        "\n",
        "        angle_deg = float(row['angle'])\n",
        "\n",
        "        # Return a dictionary instead of a tuple to match your training code\n",
        "        return {\n",
        "            \"pixel_values\": pixel_values,\n",
        "            \"angle\": torch.tensor(angle_deg, dtype=torch.float32)\n",
        "        }"
      ]
    },
    {
      "cell_type": "code",
      "execution_count": 13,
      "metadata": {
        "id": "6fQL_9rBsuQ0"
      },
      "outputs": [],
      "source": [
        "from torchvision import transforms\n",
        "from torchvision.transforms import (\n",
        "    Compose,\n",
        "    Resize,\n",
        "    ToTensor,\n",
        "    Normalize,\n",
        "    ColorJitter,\n",
        "    RandomApply,\n",
        "    GaussianBlur,\n",
        "    RandomGrayscale,\n",
        ")\n",
        "\n",
        "# Normalization (assuming `feature_extractor` is defined)\n",
        "normalize = Normalize(mean=processor.image_mean, std=processor.image_std)\n",
        "\n",
        "# Training transforms\n",
        "train_transforms = Compose([\n",
        "    Resize(224),  # Resize first to preserve spatial ratios\n",
        "    # --- Angle-Safe Augmentations ---\n",
        "    RandomApply(\n",
        "        [ColorJitter(brightness=0.3, contrast=0.3, saturation=0.2, hue=0.05)],  # Mild\n",
        "        p=0.5,\n",
        "    ),\n",
        "    RandomApply([GaussianBlur(kernel_size=3)], p=0.3),  # Slight blur\n",
        "    RandomGrayscale(p=0.1),  # Rare grayscale\n",
        "    ToTensor(),\n",
        "    normalize,\n",
        "])\n",
        "\n",
        "# Validation transforms (no augmentations)\n",
        "val_transforms = Compose([\n",
        "    Resize(224),\n",
        "    ToTensor(),\n",
        "    normalize,\n",
        "])"
      ]
    },
    {
      "cell_type": "code",
      "execution_count": 14,
      "metadata": {
        "id": "Y-TBLDXisv8a"
      },
      "outputs": [],
      "source": [
        "train_ds = AngleDataset('labels_train.csv',\n",
        "                       'images_train/images_train',\n",
        "                       val_transforms)\n",
        "\n",
        "val_ds = AngleDataset('labels_val.csv',\n",
        "                       'images_val/images_val',\n",
        "                       val_transforms)\n"
      ]
    },
    {
      "cell_type": "code",
      "execution_count": null,
      "metadata": {
        "id": "Hi9YNSfzs7Qb"
      },
      "outputs": [],
      "source": []
    },
    {
      "cell_type": "code",
      "execution_count": 15,
      "metadata": {
        "colab": {
          "base_uri": "https://localhost:8080/"
        },
        "id": "0yFxKGWCs8Fm",
        "outputId": "2855d02c-4903-4221-b7f0-80d8bb99bfe7"
      },
      "outputs": [
        {
          "name": "stderr",
          "output_type": "stream",
          "text": [
            "\u001b[34m\u001b[1mwandb\u001b[0m: \u001b[33mWARNING\u001b[0m If you're specifying your api key in code, ensure this code is not shared publicly.\n",
            "\u001b[34m\u001b[1mwandb\u001b[0m: \u001b[33mWARNING\u001b[0m Consider setting the WANDB_API_KEY environment variable, or running `wandb login` from the command line.\n",
            "\u001b[34m\u001b[1mwandb\u001b[0m: Appending key for api.wandb.ai to your netrc file: /teamspace/studios/this_studio/.netrc\n",
            "\u001b[34m\u001b[1mwandb\u001b[0m: Currently logged in as: \u001b[33mshanh042-310\u001b[0m (\u001b[33mshanh042-310-iiit-hyderabad\u001b[0m) to \u001b[32mhttps://api.wandb.ai\u001b[0m. Use \u001b[1m`wandb login --relogin`\u001b[0m to force relogin\n"
          ]
        },
        {
          "data": {
            "text/plain": [
              "True"
            ]
          },
          "execution_count": 15,
          "metadata": {},
          "output_type": "execute_result"
        }
      ],
      "source": [
        "import wandb\n",
        "\n",
        "wandb.login(key='5d0f53cfd15364d3cce1d5e9ca6f631fd831a669')"
      ]
    },
    {
      "cell_type": "code",
      "execution_count": 37,
      "metadata": {
        "colab": {
          "base_uri": "https://localhost:8080/",
          "height": 524
        },
        "id": "kjGY_y6StB3b",
        "outputId": "b79b3724-fff0-417c-908b-254ef9182017"
      },
      "outputs": [
        {
          "data": {
            "text/html": [
              "Tracking run with wandb version 0.19.10"
            ],
            "text/plain": [
              "<IPython.core.display.HTML object>"
            ]
          },
          "metadata": {},
          "output_type": "display_data"
        },
        {
          "data": {
            "text/html": [
              "Run data is saved locally in <code>/teamspace/studios/this_studio/wandb/run-20250505_215036-nchslixs</code>"
            ],
            "text/plain": [
              "<IPython.core.display.HTML object>"
            ]
          },
          "metadata": {},
          "output_type": "display_data"
        },
        {
          "data": {
            "text/html": [
              "Syncing run <strong><a href='https://wandb.ai/shanh042-310-iiit-hyderabad/angle-prediction/runs/nchslixs' target=\"_blank\">convnext-angle=1epoch</a></strong> to <a href='https://wandb.ai/shanh042-310-iiit-hyderabad/angle-prediction' target=\"_blank\">Weights & Biases</a> (<a href='https://wandb.me/developer-guide' target=\"_blank\">docs</a>)<br>"
            ],
            "text/plain": [
              "<IPython.core.display.HTML object>"
            ]
          },
          "metadata": {},
          "output_type": "display_data"
        },
        {
          "data": {
            "text/html": [
              " View project at <a href='https://wandb.ai/shanh042-310-iiit-hyderabad/angle-prediction' target=\"_blank\">https://wandb.ai/shanh042-310-iiit-hyderabad/angle-prediction</a>"
            ],
            "text/plain": [
              "<IPython.core.display.HTML object>"
            ]
          },
          "metadata": {},
          "output_type": "display_data"
        },
        {
          "data": {
            "text/html": [
              " View run at <a href='https://wandb.ai/shanh042-310-iiit-hyderabad/angle-prediction/runs/nchslixs' target=\"_blank\">https://wandb.ai/shanh042-310-iiit-hyderabad/angle-prediction/runs/nchslixs</a>"
            ],
            "text/plain": [
              "<IPython.core.display.HTML object>"
            ]
          },
          "metadata": {},
          "output_type": "display_data"
        },
        {
          "data": {
            "text/html": [
              "<button onClick=\"this.nextSibling.style.display='block';this.style.display='none';\">Display W&B run</button><iframe src='https://wandb.ai/shanh042-310-iiit-hyderabad/angle-prediction/runs/nchslixs?jupyter=true' style='border:none;width:100%;height:420px;display:none;'></iframe>"
            ],
            "text/plain": [
              "<wandb.sdk.wandb_run.Run at 0x793266aba8c0>"
            ]
          },
          "execution_count": 37,
          "metadata": {},
          "output_type": "execute_result"
        }
      ],
      "source": [
        "import torch\n",
        "from torch.utils.data import DataLoader\n",
        "from torchvision import transforms\n",
        "import wandb  # optional\n",
        "\n",
        "# Device\n",
        "device = torch.device(\"cuda\" if torch.cuda.is_available() else \"cpu\")\n",
        "\n",
        "# Initialize wandb\n",
        "wandb.init(project=\"angle-prediction\", name=\"convnext-angle=1epoch\")\n"
      ]
    },
    {
      "cell_type": "code",
      "execution_count": 38,
      "metadata": {
        "colab": {
          "base_uri": "https://localhost:8080/"
        },
        "id": "X4Q349FFtDr_",
        "outputId": "f9de85c1-7e16-4c5c-940d-ca720f92bd01"
      },
      "outputs": [],
      "source": [
        "train_loader = DataLoader(train_ds, batch_size=16, shuffle=True, num_workers=4)\n",
        "val_loader = DataLoader(val_ds, batch_size=16, shuffle=False, num_workers=4)\n"
      ]
    },
    {
      "cell_type": "code",
      "execution_count": 39,
      "metadata": {
        "id": "xuH8IjS3tJhV"
      },
      "outputs": [],
      "source": [
        "def mean_absolute_angular_error(pred_sin_cos, target_angles_deg):\n",
        "    \"\"\"\n",
        "    pred_sin_cos: (batch_size, 2) - model outputs: [sin, cos]\n",
        "    target_angles_deg: (batch_size,) - angles in degrees\n",
        "\n",
        "    Returns:\n",
        "        Scalar MAAE\n",
        "    \"\"\"\n",
        "    pred_angles_rad = torch.atan2(pred_sin_cos[:, 0], pred_sin_cos[:, 1])  # arctan2(sin, cos)\n",
        "    pred_angles_deg = torch.rad2deg(pred_angles_rad) % 360\n",
        "    target_angles_deg = target_angles_deg % 360\n",
        "\n",
        "    diff = torch.abs(pred_angles_deg - target_angles_deg)\n",
        "    angular_error = torch.minimum(diff, 360 - diff)\n",
        "    return angular_error.mean()\n"
      ]
    },
    {
      "cell_type": "code",
      "execution_count": 40,
      "metadata": {
        "id": "qmCuIAirYQEN"
      },
      "outputs": [],
      "source": [
        "criterion = nn.MSELoss()"
      ]
    },
    {
      "cell_type": "code",
      "execution_count": 41,
      "metadata": {
        "id": "4Dh1OelRYC2b"
      },
      "outputs": [],
      "source": [
        "def validate(model, val_loader, device):\n",
        "    model.eval()\n",
        "    val_loss = 0.0\n",
        "    val_maae = 0.0\n",
        "\n",
        "    with torch.no_grad():\n",
        "        for batch in val_loader:\n",
        "            pixel_values = batch[\"pixel_values\"].to(device)\n",
        "            angles = batch[\"angle\"].to(device)\n",
        "\n",
        "            radians = torch.deg2rad(angles)\n",
        "            target = torch.stack([torch.sin(radians), torch.cos(radians)], dim=1)\n",
        "\n",
        "            outputs = model(pixel_values)\n",
        "            logits = outputs.logits if hasattr(outputs, 'logits') else outputs\n",
        "\n",
        "            loss = criterion(logits, target)\n",
        "            val_loss += loss.item()\n",
        "\n",
        "            maae = mean_absolute_angular_error(logits, angles)\n",
        "            val_maae += maae.item()\n",
        "\n",
        "    return val_loss/len(val_loader), val_maae/len(val_loader)"
      ]
    },
    {
      "cell_type": "code",
      "execution_count": 42,
      "metadata": {
        "id": "3rjj89h0tKW0"
      },
      "outputs": [],
      "source": [
        "import torch\n",
        "import wandb\n",
        "from tqdm import tqdm\n",
        "\n",
        "from torch.optim.lr_scheduler import CosineAnnealingLR\n",
        "from torch.nn.utils import clip_grad_norm_\n",
        "import numpy as np\n",
        "\n",
        "def train_model(model, train_loader, val_loader, optimizer, device, num_epochs=50, patience=5):\n",
        "    model.to(device)\n",
        "    best_val_loss = np.inf\n",
        "    epochs_no_improve = 0\n",
        "    early_stop = False\n",
        "\n",
        "    # Cosine annealing scheduler\n",
        "    scheduler = CosineAnnealingLR(optimizer, T_max=num_epochs, eta_min=1e-6)\n",
        "\n",
        "    for epoch in range(num_epochs):\n",
        "        model.train()\n",
        "        train_loss = 0.0\n",
        "        batch_losses = []\n",
        "\n",
        "        for batch_idx, batch in enumerate(tqdm(train_loader, desc=f\"Epoch {epoch+1}\")):\n",
        "            pixel_values = batch[\"pixel_values\"].to(device)\n",
        "            angles = batch[\"angle\"].to(device)\n",
        "\n",
        "            radians = torch.deg2rad(angles)\n",
        "            target = torch.stack([torch.sin(radians), torch.cos(radians)], dim=1)\n",
        "\n",
        "            outputs = model(pixel_values)\n",
        "            logits = outputs.logits if hasattr(outputs, 'logits') else outputs\n",
        "\n",
        "            loss = criterion(logits, target)\n",
        "\n",
        "            optimizer.zero_grad()\n",
        "            loss.backward()\n",
        "\n",
        "            # Gradient clipping\n",
        "            clip_grad_norm_(model.parameters(), max_norm=1.0)\n",
        "\n",
        "            optimizer.step()\n",
        "\n",
        "            train_loss += loss.item()\n",
        "            batch_losses.append(loss.item())\n",
        "\n",
        "            # Log every 50 batches\n",
        "            if batch_idx % 50 == 0:\n",
        "                wandb.log({\n",
        "                    \"batch_train_loss\": np.mean(batch_losses[-50:]),\n",
        "                    \"lr\": optimizer.param_groups[0]['lr'],\n",
        "                    \"epoch\": epoch + (batch_idx/len(train_loader))\n",
        "                })\n",
        "\n",
        "        # Validation\n",
        "        val_loss, val_maae = validate(model, val_loader, device)\n",
        "        scheduler.step()\n",
        "\n",
        "        # Early stopping check\n",
        "        if val_loss < best_val_loss:\n",
        "            best_val_loss = val_loss\n",
        "            epochs_no_improve = 0\n",
        "            torch.save(model.state_dict(), 'best_model.pth')\n",
        "        else:\n",
        "            epochs_no_improve += 1\n",
        "            if epochs_no_improve >= patience:\n",
        "                early_stop = True\n",
        "\n",
        "        print(f\"Epoch {epoch+1}:\")\n",
        "        print(f\"  Train Loss: {train_loss/len(train_loader):.4f}\")\n",
        "        print(f\"  Val Loss: {val_loss:.4f}\")\n",
        "        print(f\"  Val MAAE: {val_maae:.2f}°\")\n",
        "        print(f\"  LR: {optimizer.param_groups[0]['lr']:.2e}\")\n",
        "\n",
        "        wandb.log({\n",
        "            \"epoch_train_loss\": train_loss/len(train_loader),\n",
        "            \"val_loss\": val_loss,\n",
        "            \"val_maae\": val_maae,\n",
        "            \"lr\": optimizer.param_groups[0]['lr'],\n",
        "            \"epoch\": epoch + 1\n",
        "        })\n",
        "\n",
        "        if early_stop:\n",
        "            print(f\"Early stopping triggered after {epoch+1} epochs\")\n",
        "            break\n",
        "\n",
        "    # Load best model\n",
        "    model.load_state_dict(torch.load('best_model.pth'))\n",
        "    return model"
      ]
    },
    {
      "cell_type": "code",
      "execution_count": null,
      "metadata": {
        "colab": {
          "base_uri": "https://localhost:8080/"
        },
        "id": "iuHPlRyutS_k",
        "outputId": "772252b1-4133-4372-a214-85ad1d7c5ea5"
      },
      "outputs": [
        {
          "name": "stderr",
          "output_type": "stream",
          "text": [
            "Epoch 1:   0%|          | 0/409 [00:00<?, ?it/s]"
          ]
        },
        {
          "name": "stderr",
          "output_type": "stream",
          "text": [
            "Epoch 1: 100%|██████████| 409/409 [07:57<00:00,  1.17s/it]\n"
          ]
        },
        {
          "name": "stdout",
          "output_type": "stream",
          "text": [
            "Epoch 1:\n",
            "  Train Loss: 0.0199\n",
            "  Val Loss: 0.1689\n",
            "  Val MAAE: 26.01°\n",
            "  LR: 1.00e-06\n"
          ]
        }
      ],
      "source": [
        "# Initialize with lower learning rate\n",
        "optimizer = torch.optim.AdamW(model.parameters(), lr=1e-4, weight_decay=1e-4)\n",
        "\n",
        "# Train with all enhancements\n",
        "model = train_model(\n",
        "    model=model,\n",
        "    train_loader=train_loader,\n",
        "    val_loader=val_loader,\n",
        "    optimizer=optimizer,\n",
        "    device=device,\n",
        "    num_epochs=50,       # Increased from 3\n",
        "    patience=5           # Early stopping patience\n",
        ")"
      ]
    },
    {
      "cell_type": "code",
      "execution_count": 44,
      "metadata": {
        "colab": {
          "base_uri": "https://localhost:8080/",
          "height": 521
        },
        "id": "ywln2QQctVXa",
        "outputId": "ec41a506-ec4b-425b-f83a-38c52dc4b56e"
      },
      "outputs": [
        {
          "data": {
            "text/html": [],
            "text/plain": [
              "<IPython.core.display.HTML object>"
            ]
          },
          "metadata": {},
          "output_type": "display_data"
        },
        {
          "data": {
            "text/html": [
              "<br>    <style><br>        .wandb-row {<br>            display: flex;<br>            flex-direction: row;<br>            flex-wrap: wrap;<br>            justify-content: flex-start;<br>            width: 100%;<br>        }<br>        .wandb-col {<br>            display: flex;<br>            flex-direction: column;<br>            flex-basis: 100%;<br>            flex: 1;<br>            padding: 10px;<br>        }<br>    </style><br><div class=\"wandb-row\"><div class=\"wandb-col\"><h3>Run history:</h3><br/><table class=\"wandb\"><tr><td>batch_train_loss</td><td>▁██▅▃▄▁▅▇</td></tr><tr><td>epoch</td><td>▁▂▃▄▄▅▆▇██</td></tr><tr><td>epoch_train_loss</td><td>▁</td></tr><tr><td>lr</td><td>█████████▁</td></tr><tr><td>val_loss</td><td>▁</td></tr><tr><td>val_maae</td><td>▁</td></tr></table><br/></div><div class=\"wandb-col\"><h3>Run summary:</h3><br/><table class=\"wandb\"><tr><td>batch_train_loss</td><td>0.02192</td></tr><tr><td>epoch</td><td>1</td></tr><tr><td>epoch_train_loss</td><td>0.0199</td></tr><tr><td>lr</td><td>0.0</td></tr><tr><td>val_loss</td><td>0.16893</td></tr><tr><td>val_maae</td><td>26.01044</td></tr></table><br/></div></div>"
            ],
            "text/plain": [
              "<IPython.core.display.HTML object>"
            ]
          },
          "metadata": {},
          "output_type": "display_data"
        },
        {
          "data": {
            "text/html": [
              " View run <strong style=\"color:#cdcd00\">convnext-angle=1epoch</strong> at: <a href='https://wandb.ai/shanh042-310-iiit-hyderabad/angle-prediction/runs/nchslixs' target=\"_blank\">https://wandb.ai/shanh042-310-iiit-hyderabad/angle-prediction/runs/nchslixs</a><br> View project at: <a href='https://wandb.ai/shanh042-310-iiit-hyderabad/angle-prediction' target=\"_blank\">https://wandb.ai/shanh042-310-iiit-hyderabad/angle-prediction</a><br>Synced 5 W&B file(s), 0 media file(s), 0 artifact file(s) and 0 other file(s)"
            ],
            "text/plain": [
              "<IPython.core.display.HTML object>"
            ]
          },
          "metadata": {},
          "output_type": "display_data"
        },
        {
          "data": {
            "text/html": [
              "Find logs at: <code>./wandb/run-20250505_215036-nchslixs/logs</code>"
            ],
            "text/plain": [
              "<IPython.core.display.HTML object>"
            ]
          },
          "metadata": {},
          "output_type": "display_data"
        }
      ],
      "source": [
        "wandb.finish()"
      ]
    },
    {
      "cell_type": "code",
      "execution_count": 45,
      "metadata": {
        "id": "6MA3K3Pay_tS"
      },
      "outputs": [],
      "source": [
        "def get_angle(logits, round_=False):\n",
        "    pred_sin_cos = logits\n",
        "    pred_angles_rad = torch.atan2(pred_sin_cos[0], pred_sin_cos[1])  # arctan2(sin, cos)\n",
        "    pred_angles_deg = torch.rad2deg(pred_angles_rad) % 360\n",
        "    pred_angles_deg = pred_angles_deg % 360\n",
        "    \n",
        "    return pred_angles_deg"
      ]
    },
    {
      "cell_type": "code",
      "execution_count": 46,
      "metadata": {},
      "outputs": [],
      "source": [
        "val_loader = DataLoader(val_ds, batch_size=4)"
      ]
    },
    {
      "cell_type": "code",
      "execution_count": 47,
      "metadata": {},
      "outputs": [
        {
          "data": {
            "text/plain": [
              "369"
            ]
          },
          "execution_count": 47,
          "metadata": {},
          "output_type": "execute_result"
        }
      ],
      "source": [
        "len(val_ds)"
      ]
    },
    {
      "cell_type": "code",
      "execution_count": 48,
      "metadata": {},
      "outputs": [
        {
          "name": "stderr",
          "output_type": "stream",
          "text": [
            "100%|██████████| 93/93 [00:12<00:00,  7.58it/s]\n"
          ]
        }
      ],
      "source": [
        "preds = []\n",
        "preds_round = []\n",
        "for batch in tqdm(val_loader):\n",
        "    torch.cuda.empty_cache()\n",
        "    pixel_values = batch[\"pixel_values\"].to(device)\n",
        "\n",
        "    logits = model(pixel_values).logits\n",
        "    for logit in logits:\n",
        "        angle = get_angle(logit)\n",
        "        preds.append(angle.item())\n",
        "        preds_round.append(round(angle.item()))"
      ]
    },
    {
      "cell_type": "code",
      "execution_count": 49,
      "metadata": {},
      "outputs": [
        {
          "data": {
            "text/plain": [
              "369"
            ]
          },
          "execution_count": 49,
          "metadata": {},
          "output_type": "execute_result"
        }
      ],
      "source": [
        "len(preds)"
      ]
    },
    {
      "cell_type": "code",
      "execution_count": 50,
      "metadata": {},
      "outputs": [
        {
          "name": "stdout",
          "output_type": "stream",
          "text": [
            "Archive:  images_test.zip\n",
            "replace images_test/img_0000.jpg? [y]es, [n]o, [A]ll, [N]one, [r]ename: ^C\n"
          ]
        }
      ],
      "source": [
        "!unzip images_test.zip"
      ]
    },
    {
      "cell_type": "code",
      "execution_count": 51,
      "metadata": {},
      "outputs": [],
      "source": [
        "test_transforms = Compose([\n",
        "    Resize(224),\n",
        "    ToTensor(),\n",
        "    normalize\n",
        "])"
      ]
    },
    {
      "cell_type": "code",
      "execution_count": 52,
      "metadata": {},
      "outputs": [],
      "source": [
        "test_df = val.copy()\n",
        "test_df['filename'] = os.listdir('images_test')\n",
        "\n",
        "test_df.to_csv('labels_test.csv', index=False)"
      ]
    },
    {
      "cell_type": "code",
      "execution_count": 53,
      "metadata": {},
      "outputs": [
        {
          "name": "stderr",
          "output_type": "stream",
          "text": [
            "100%|██████████| 93/93 [00:12<00:00,  7.63it/s]\n"
          ]
        }
      ],
      "source": [
        "\n",
        "test_ds = AngleDataset('labels_test.csv', 'images_test', test_transforms)\n",
        "\n",
        "test_loader = DataLoader(test_ds, batch_size=4)\n",
        "\n",
        "\n",
        "for batch in tqdm(test_loader):\n",
        "    torch.cuda.empty_cache()\n",
        "    pixel_values = batch[\"pixel_values\"].to(device)\n",
        "\n",
        "    logits = model(pixel_values).logits\n",
        "    for logit in logits:\n",
        "        angle = get_angle(logit)\n",
        "        preds.append(angle.item())\n",
        "        preds_round.append(round(angle.item()))"
      ]
    },
    {
      "cell_type": "code",
      "execution_count": 34,
      "metadata": {},
      "outputs": [
        {
          "data": {
            "text/plain": [
              "738"
            ]
          },
          "execution_count": 34,
          "metadata": {},
          "output_type": "execute_result"
        }
      ],
      "source": [
        "len(preds)"
      ]
    },
    {
      "cell_type": "code",
      "execution_count": 54,
      "metadata": {},
      "outputs": [],
      "source": [
        "pd.DataFrame({'angle': preds}).to_csv('angles_normal_epoch.csv')\n",
        "pd.DataFrame({'angle': preds_round}).to_csv('angles_rounded.csv')"
      ]
    },
    {
      "cell_type": "code",
      "execution_count": null,
      "metadata": {},
      "outputs": [],
      "source": [
        "len(val_ds), len(test_ds)"
      ]
    }
  ],
  "metadata": {
    "accelerator": "GPU",
    "colab": {
      "gpuType": "T4",
      "provenance": []
    },
    "kernelspec": {
      "display_name": "Python 3",
      "name": "python3"
    },
    "language_info": {
      "name": "python"
    },
    "widgets": {
      "application/vnd.jupyter.widget-state+json": {
        "0f0808a8943a45658575d885aae6f12a": {
          "model_module": "@jupyter-widgets/base",
          "model_module_version": "1.2.0",
          "model_name": "LayoutModel",
          "state": {
            "_model_module": "@jupyter-widgets/base",
            "_model_module_version": "1.2.0",
            "_model_name": "LayoutModel",
            "_view_count": null,
            "_view_module": "@jupyter-widgets/base",
            "_view_module_version": "1.2.0",
            "_view_name": "LayoutView",
            "align_content": null,
            "align_items": null,
            "align_self": null,
            "border": null,
            "bottom": null,
            "display": null,
            "flex": null,
            "flex_flow": null,
            "grid_area": null,
            "grid_auto_columns": null,
            "grid_auto_flow": null,
            "grid_auto_rows": null,
            "grid_column": null,
            "grid_gap": null,
            "grid_row": null,
            "grid_template_areas": null,
            "grid_template_columns": null,
            "grid_template_rows": null,
            "height": null,
            "justify_content": null,
            "justify_items": null,
            "left": null,
            "margin": null,
            "max_height": null,
            "max_width": null,
            "min_height": null,
            "min_width": null,
            "object_fit": null,
            "object_position": null,
            "order": null,
            "overflow": null,
            "overflow_x": null,
            "overflow_y": null,
            "padding": null,
            "right": null,
            "top": null,
            "visibility": null,
            "width": null
          }
        },
        "121bd4e55e1643e7aea314328eaa2215": {
          "model_module": "@jupyter-widgets/base",
          "model_module_version": "1.2.0",
          "model_name": "LayoutModel",
          "state": {
            "_model_module": "@jupyter-widgets/base",
            "_model_module_version": "1.2.0",
            "_model_name": "LayoutModel",
            "_view_count": null,
            "_view_module": "@jupyter-widgets/base",
            "_view_module_version": "1.2.0",
            "_view_name": "LayoutView",
            "align_content": null,
            "align_items": null,
            "align_self": null,
            "border": null,
            "bottom": null,
            "display": null,
            "flex": null,
            "flex_flow": null,
            "grid_area": null,
            "grid_auto_columns": null,
            "grid_auto_flow": null,
            "grid_auto_rows": null,
            "grid_column": null,
            "grid_gap": null,
            "grid_row": null,
            "grid_template_areas": null,
            "grid_template_columns": null,
            "grid_template_rows": null,
            "height": null,
            "justify_content": null,
            "justify_items": null,
            "left": null,
            "margin": null,
            "max_height": null,
            "max_width": null,
            "min_height": null,
            "min_width": null,
            "object_fit": null,
            "object_position": null,
            "order": null,
            "overflow": null,
            "overflow_x": null,
            "overflow_y": null,
            "padding": null,
            "right": null,
            "top": null,
            "visibility": null,
            "width": null
          }
        },
        "15509ac4c2f44eea9c57ad0538bf06d4": {
          "model_module": "@jupyter-widgets/controls",
          "model_module_version": "1.5.0",
          "model_name": "DescriptionStyleModel",
          "state": {
            "_model_module": "@jupyter-widgets/controls",
            "_model_module_version": "1.5.0",
            "_model_name": "DescriptionStyleModel",
            "_view_count": null,
            "_view_module": "@jupyter-widgets/base",
            "_view_module_version": "1.2.0",
            "_view_name": "StyleView",
            "description_width": ""
          }
        },
        "22bfa75086f6494db78fbd85ee7cef54": {
          "model_module": "@jupyter-widgets/controls",
          "model_module_version": "1.5.0",
          "model_name": "HTMLModel",
          "state": {
            "_dom_classes": [],
            "_model_module": "@jupyter-widgets/controls",
            "_model_module_version": "1.5.0",
            "_model_name": "HTMLModel",
            "_view_count": null,
            "_view_module": "@jupyter-widgets/controls",
            "_view_module_version": "1.5.0",
            "_view_name": "HTMLView",
            "description": "",
            "description_tooltip": null,
            "layout": "IPY_MODEL_89f41bd1b3eb45ca9d9d6f267f0defc5",
            "placeholder": "​",
            "style": "IPY_MODEL_fd4246d96c62415e96adc0fe6389b584",
            "value": " 69.6k/69.6k [00:00&lt;00:00, 6.71MB/s]"
          }
        },
        "24099b182a394229b1860290950dbad0": {
          "model_module": "@jupyter-widgets/controls",
          "model_module_version": "1.5.0",
          "model_name": "DescriptionStyleModel",
          "state": {
            "_model_module": "@jupyter-widgets/controls",
            "_model_module_version": "1.5.0",
            "_model_name": "DescriptionStyleModel",
            "_view_count": null,
            "_view_module": "@jupyter-widgets/base",
            "_view_module_version": "1.2.0",
            "_view_name": "StyleView",
            "description_width": ""
          }
        },
        "2eeaa180733d4913a872ae39caa5468e": {
          "model_module": "@jupyter-widgets/controls",
          "model_module_version": "1.5.0",
          "model_name": "HTMLModel",
          "state": {
            "_dom_classes": [],
            "_model_module": "@jupyter-widgets/controls",
            "_model_module_version": "1.5.0",
            "_model_name": "HTMLModel",
            "_view_count": null,
            "_view_module": "@jupyter-widgets/controls",
            "_view_module_version": "1.5.0",
            "_view_name": "HTMLView",
            "description": "",
            "description_tooltip": null,
            "layout": "IPY_MODEL_ec9bae26266d45ea9eb48a9921b6c615",
            "placeholder": "​",
            "style": "IPY_MODEL_3d9c9c2ef9ea4f98ba831cdefd6ef3a9",
            "value": "pytorch_model.bin: 100%"
          }
        },
        "309315ea4fc445aeb65d1e7b1ea7ee46": {
          "model_module": "@jupyter-widgets/base",
          "model_module_version": "1.2.0",
          "model_name": "LayoutModel",
          "state": {
            "_model_module": "@jupyter-widgets/base",
            "_model_module_version": "1.2.0",
            "_model_name": "LayoutModel",
            "_view_count": null,
            "_view_module": "@jupyter-widgets/base",
            "_view_module_version": "1.2.0",
            "_view_name": "LayoutView",
            "align_content": null,
            "align_items": null,
            "align_self": null,
            "border": null,
            "bottom": null,
            "display": null,
            "flex": null,
            "flex_flow": null,
            "grid_area": null,
            "grid_auto_columns": null,
            "grid_auto_flow": null,
            "grid_auto_rows": null,
            "grid_column": null,
            "grid_gap": null,
            "grid_row": null,
            "grid_template_areas": null,
            "grid_template_columns": null,
            "grid_template_rows": null,
            "height": null,
            "justify_content": null,
            "justify_items": null,
            "left": null,
            "margin": null,
            "max_height": null,
            "max_width": null,
            "min_height": null,
            "min_width": null,
            "object_fit": null,
            "object_position": null,
            "order": null,
            "overflow": null,
            "overflow_x": null,
            "overflow_y": null,
            "padding": null,
            "right": null,
            "top": null,
            "visibility": null,
            "width": null
          }
        },
        "310bbcec2fff4792af0d5fb92759fc06": {
          "model_module": "@jupyter-widgets/controls",
          "model_module_version": "1.5.0",
          "model_name": "HBoxModel",
          "state": {
            "_dom_classes": [],
            "_model_module": "@jupyter-widgets/controls",
            "_model_module_version": "1.5.0",
            "_model_name": "HBoxModel",
            "_view_count": null,
            "_view_module": "@jupyter-widgets/controls",
            "_view_module_version": "1.5.0",
            "_view_name": "HBoxView",
            "box_style": "",
            "children": [
              "IPY_MODEL_2eeaa180733d4913a872ae39caa5468e",
              "IPY_MODEL_502df5506f0f490c9594fc8e88a0c80a",
              "IPY_MODEL_e82655d33ef547d2ad4935dd5c891418"
            ],
            "layout": "IPY_MODEL_121bd4e55e1643e7aea314328eaa2215"
          }
        },
        "37730725ecc04deda525f21b3b8746ba": {
          "model_module": "@jupyter-widgets/controls",
          "model_module_version": "1.5.0",
          "model_name": "DescriptionStyleModel",
          "state": {
            "_model_module": "@jupyter-widgets/controls",
            "_model_module_version": "1.5.0",
            "_model_name": "DescriptionStyleModel",
            "_view_count": null,
            "_view_module": "@jupyter-widgets/base",
            "_view_module_version": "1.2.0",
            "_view_name": "StyleView",
            "description_width": ""
          }
        },
        "3788178f98ce48dd8a2a590a1aaf4552": {
          "model_module": "@jupyter-widgets/controls",
          "model_module_version": "1.5.0",
          "model_name": "ProgressStyleModel",
          "state": {
            "_model_module": "@jupyter-widgets/controls",
            "_model_module_version": "1.5.0",
            "_model_name": "ProgressStyleModel",
            "_view_count": null,
            "_view_module": "@jupyter-widgets/base",
            "_view_module_version": "1.2.0",
            "_view_name": "StyleView",
            "bar_color": null,
            "description_width": ""
          }
        },
        "3d9c9c2ef9ea4f98ba831cdefd6ef3a9": {
          "model_module": "@jupyter-widgets/controls",
          "model_module_version": "1.5.0",
          "model_name": "DescriptionStyleModel",
          "state": {
            "_model_module": "@jupyter-widgets/controls",
            "_model_module_version": "1.5.0",
            "_model_name": "DescriptionStyleModel",
            "_view_count": null,
            "_view_module": "@jupyter-widgets/base",
            "_view_module_version": "1.2.0",
            "_view_name": "StyleView",
            "description_width": ""
          }
        },
        "425bb3569309404dbfccdffbaf1e036d": {
          "model_module": "@jupyter-widgets/base",
          "model_module_version": "1.2.0",
          "model_name": "LayoutModel",
          "state": {
            "_model_module": "@jupyter-widgets/base",
            "_model_module_version": "1.2.0",
            "_model_name": "LayoutModel",
            "_view_count": null,
            "_view_module": "@jupyter-widgets/base",
            "_view_module_version": "1.2.0",
            "_view_name": "LayoutView",
            "align_content": null,
            "align_items": null,
            "align_self": null,
            "border": null,
            "bottom": null,
            "display": null,
            "flex": null,
            "flex_flow": null,
            "grid_area": null,
            "grid_auto_columns": null,
            "grid_auto_flow": null,
            "grid_auto_rows": null,
            "grid_column": null,
            "grid_gap": null,
            "grid_row": null,
            "grid_template_areas": null,
            "grid_template_columns": null,
            "grid_template_rows": null,
            "height": null,
            "justify_content": null,
            "justify_items": null,
            "left": null,
            "margin": null,
            "max_height": null,
            "max_width": null,
            "min_height": null,
            "min_width": null,
            "object_fit": null,
            "object_position": null,
            "order": null,
            "overflow": null,
            "overflow_x": null,
            "overflow_y": null,
            "padding": null,
            "right": null,
            "top": null,
            "visibility": null,
            "width": null
          }
        },
        "4cdda3eb8e6a4ae1b2a08f69c0f135f1": {
          "model_module": "@jupyter-widgets/base",
          "model_module_version": "1.2.0",
          "model_name": "LayoutModel",
          "state": {
            "_model_module": "@jupyter-widgets/base",
            "_model_module_version": "1.2.0",
            "_model_name": "LayoutModel",
            "_view_count": null,
            "_view_module": "@jupyter-widgets/base",
            "_view_module_version": "1.2.0",
            "_view_name": "LayoutView",
            "align_content": null,
            "align_items": null,
            "align_self": null,
            "border": null,
            "bottom": null,
            "display": null,
            "flex": null,
            "flex_flow": null,
            "grid_area": null,
            "grid_auto_columns": null,
            "grid_auto_flow": null,
            "grid_auto_rows": null,
            "grid_column": null,
            "grid_gap": null,
            "grid_row": null,
            "grid_template_areas": null,
            "grid_template_columns": null,
            "grid_template_rows": null,
            "height": null,
            "justify_content": null,
            "justify_items": null,
            "left": null,
            "margin": null,
            "max_height": null,
            "max_width": null,
            "min_height": null,
            "min_width": null,
            "object_fit": null,
            "object_position": null,
            "order": null,
            "overflow": null,
            "overflow_x": null,
            "overflow_y": null,
            "padding": null,
            "right": null,
            "top": null,
            "visibility": null,
            "width": null
          }
        },
        "4e0e849e28da4994a3e348483d853630": {
          "model_module": "@jupyter-widgets/base",
          "model_module_version": "1.2.0",
          "model_name": "LayoutModel",
          "state": {
            "_model_module": "@jupyter-widgets/base",
            "_model_module_version": "1.2.0",
            "_model_name": "LayoutModel",
            "_view_count": null,
            "_view_module": "@jupyter-widgets/base",
            "_view_module_version": "1.2.0",
            "_view_name": "LayoutView",
            "align_content": null,
            "align_items": null,
            "align_self": null,
            "border": null,
            "bottom": null,
            "display": null,
            "flex": null,
            "flex_flow": null,
            "grid_area": null,
            "grid_auto_columns": null,
            "grid_auto_flow": null,
            "grid_auto_rows": null,
            "grid_column": null,
            "grid_gap": null,
            "grid_row": null,
            "grid_template_areas": null,
            "grid_template_columns": null,
            "grid_template_rows": null,
            "height": null,
            "justify_content": null,
            "justify_items": null,
            "left": null,
            "margin": null,
            "max_height": null,
            "max_width": null,
            "min_height": null,
            "min_width": null,
            "object_fit": null,
            "object_position": null,
            "order": null,
            "overflow": null,
            "overflow_x": null,
            "overflow_y": null,
            "padding": null,
            "right": null,
            "top": null,
            "visibility": null,
            "width": null
          }
        },
        "502df5506f0f490c9594fc8e88a0c80a": {
          "model_module": "@jupyter-widgets/controls",
          "model_module_version": "1.5.0",
          "model_name": "FloatProgressModel",
          "state": {
            "_dom_classes": [],
            "_model_module": "@jupyter-widgets/controls",
            "_model_module_version": "1.5.0",
            "_model_name": "FloatProgressModel",
            "_view_count": null,
            "_view_module": "@jupyter-widgets/controls",
            "_view_module_version": "1.5.0",
            "_view_name": "ProgressView",
            "bar_style": "success",
            "description": "",
            "description_tooltip": null,
            "layout": "IPY_MODEL_8284450e53e2429a85caec628bcbbc12",
            "max": 791196305,
            "min": 0,
            "orientation": "horizontal",
            "style": "IPY_MODEL_6eceaafca89947e4b1868c035d0975b5",
            "value": 791196305
          }
        },
        "5bb067d6350c4e66b6adf9b42beb8531": {
          "model_module": "@jupyter-widgets/controls",
          "model_module_version": "1.5.0",
          "model_name": "HTMLModel",
          "state": {
            "_dom_classes": [],
            "_model_module": "@jupyter-widgets/controls",
            "_model_module_version": "1.5.0",
            "_model_name": "HTMLModel",
            "_view_count": null,
            "_view_module": "@jupyter-widgets/controls",
            "_view_module_version": "1.5.0",
            "_view_name": "HTMLView",
            "description": "",
            "description_tooltip": null,
            "layout": "IPY_MODEL_309315ea4fc445aeb65d1e7b1ea7ee46",
            "placeholder": "​",
            "style": "IPY_MODEL_b699aee110f742848b0f7dccb158a5b9",
            "value": " 266/266 [00:00&lt;00:00, 16.5kB/s]"
          }
        },
        "69e53a804078418bb70cff0a791cdbe7": {
          "model_module": "@jupyter-widgets/base",
          "model_module_version": "1.2.0",
          "model_name": "LayoutModel",
          "state": {
            "_model_module": "@jupyter-widgets/base",
            "_model_module_version": "1.2.0",
            "_model_name": "LayoutModel",
            "_view_count": null,
            "_view_module": "@jupyter-widgets/base",
            "_view_module_version": "1.2.0",
            "_view_name": "LayoutView",
            "align_content": null,
            "align_items": null,
            "align_self": null,
            "border": null,
            "bottom": null,
            "display": null,
            "flex": null,
            "flex_flow": null,
            "grid_area": null,
            "grid_auto_columns": null,
            "grid_auto_flow": null,
            "grid_auto_rows": null,
            "grid_column": null,
            "grid_gap": null,
            "grid_row": null,
            "grid_template_areas": null,
            "grid_template_columns": null,
            "grid_template_rows": null,
            "height": null,
            "justify_content": null,
            "justify_items": null,
            "left": null,
            "margin": null,
            "max_height": null,
            "max_width": null,
            "min_height": null,
            "min_width": null,
            "object_fit": null,
            "object_position": null,
            "order": null,
            "overflow": null,
            "overflow_x": null,
            "overflow_y": null,
            "padding": null,
            "right": null,
            "top": null,
            "visibility": null,
            "width": null
          }
        },
        "6d3660eb1b3a48daa986027ea1114a6f": {
          "model_module": "@jupyter-widgets/controls",
          "model_module_version": "1.5.0",
          "model_name": "HTMLModel",
          "state": {
            "_dom_classes": [],
            "_model_module": "@jupyter-widgets/controls",
            "_model_module_version": "1.5.0",
            "_model_name": "HTMLModel",
            "_view_count": null,
            "_view_module": "@jupyter-widgets/controls",
            "_view_module_version": "1.5.0",
            "_view_name": "HTMLView",
            "description": "",
            "description_tooltip": null,
            "layout": "IPY_MODEL_425bb3569309404dbfccdffbaf1e036d",
            "placeholder": "​",
            "style": "IPY_MODEL_15509ac4c2f44eea9c57ad0538bf06d4",
            "value": "preprocessor_config.json: 100%"
          }
        },
        "6eceaafca89947e4b1868c035d0975b5": {
          "model_module": "@jupyter-widgets/controls",
          "model_module_version": "1.5.0",
          "model_name": "ProgressStyleModel",
          "state": {
            "_model_module": "@jupyter-widgets/controls",
            "_model_module_version": "1.5.0",
            "_model_name": "ProgressStyleModel",
            "_view_count": null,
            "_view_module": "@jupyter-widgets/base",
            "_view_module_version": "1.2.0",
            "_view_name": "StyleView",
            "bar_color": null,
            "description_width": ""
          }
        },
        "76166ca492b04018a8b8b84fd13fd56a": {
          "model_module": "@jupyter-widgets/controls",
          "model_module_version": "1.5.0",
          "model_name": "FloatProgressModel",
          "state": {
            "_dom_classes": [],
            "_model_module": "@jupyter-widgets/controls",
            "_model_module_version": "1.5.0",
            "_model_name": "FloatProgressModel",
            "_view_count": null,
            "_view_module": "@jupyter-widgets/controls",
            "_view_module_version": "1.5.0",
            "_view_name": "ProgressView",
            "bar_style": "success",
            "description": "",
            "description_tooltip": null,
            "layout": "IPY_MODEL_78c106f689b846468ac384035a05d848",
            "max": 266,
            "min": 0,
            "orientation": "horizontal",
            "style": "IPY_MODEL_78b2c2afa8df43cbb05dbc1efa47e539",
            "value": 266
          }
        },
        "78b2c2afa8df43cbb05dbc1efa47e539": {
          "model_module": "@jupyter-widgets/controls",
          "model_module_version": "1.5.0",
          "model_name": "ProgressStyleModel",
          "state": {
            "_model_module": "@jupyter-widgets/controls",
            "_model_module_version": "1.5.0",
            "_model_name": "ProgressStyleModel",
            "_view_count": null,
            "_view_module": "@jupyter-widgets/base",
            "_view_module_version": "1.2.0",
            "_view_name": "StyleView",
            "bar_color": null,
            "description_width": ""
          }
        },
        "78c106f689b846468ac384035a05d848": {
          "model_module": "@jupyter-widgets/base",
          "model_module_version": "1.2.0",
          "model_name": "LayoutModel",
          "state": {
            "_model_module": "@jupyter-widgets/base",
            "_model_module_version": "1.2.0",
            "_model_name": "LayoutModel",
            "_view_count": null,
            "_view_module": "@jupyter-widgets/base",
            "_view_module_version": "1.2.0",
            "_view_name": "LayoutView",
            "align_content": null,
            "align_items": null,
            "align_self": null,
            "border": null,
            "bottom": null,
            "display": null,
            "flex": null,
            "flex_flow": null,
            "grid_area": null,
            "grid_auto_columns": null,
            "grid_auto_flow": null,
            "grid_auto_rows": null,
            "grid_column": null,
            "grid_gap": null,
            "grid_row": null,
            "grid_template_areas": null,
            "grid_template_columns": null,
            "grid_template_rows": null,
            "height": null,
            "justify_content": null,
            "justify_items": null,
            "left": null,
            "margin": null,
            "max_height": null,
            "max_width": null,
            "min_height": null,
            "min_width": null,
            "object_fit": null,
            "object_position": null,
            "order": null,
            "overflow": null,
            "overflow_x": null,
            "overflow_y": null,
            "padding": null,
            "right": null,
            "top": null,
            "visibility": null,
            "width": null
          }
        },
        "79d1139663b447d0bd92ded0cad89f10": {
          "model_module": "@jupyter-widgets/controls",
          "model_module_version": "1.5.0",
          "model_name": "HBoxModel",
          "state": {
            "_dom_classes": [],
            "_model_module": "@jupyter-widgets/controls",
            "_model_module_version": "1.5.0",
            "_model_name": "HBoxModel",
            "_view_count": null,
            "_view_module": "@jupyter-widgets/controls",
            "_view_module_version": "1.5.0",
            "_view_name": "HBoxView",
            "box_style": "",
            "children": [
              "IPY_MODEL_6d3660eb1b3a48daa986027ea1114a6f",
              "IPY_MODEL_76166ca492b04018a8b8b84fd13fd56a",
              "IPY_MODEL_5bb067d6350c4e66b6adf9b42beb8531"
            ],
            "layout": "IPY_MODEL_4e0e849e28da4994a3e348483d853630"
          }
        },
        "8284450e53e2429a85caec628bcbbc12": {
          "model_module": "@jupyter-widgets/base",
          "model_module_version": "1.2.0",
          "model_name": "LayoutModel",
          "state": {
            "_model_module": "@jupyter-widgets/base",
            "_model_module_version": "1.2.0",
            "_model_name": "LayoutModel",
            "_view_count": null,
            "_view_module": "@jupyter-widgets/base",
            "_view_module_version": "1.2.0",
            "_view_name": "LayoutView",
            "align_content": null,
            "align_items": null,
            "align_self": null,
            "border": null,
            "bottom": null,
            "display": null,
            "flex": null,
            "flex_flow": null,
            "grid_area": null,
            "grid_auto_columns": null,
            "grid_auto_flow": null,
            "grid_auto_rows": null,
            "grid_column": null,
            "grid_gap": null,
            "grid_row": null,
            "grid_template_areas": null,
            "grid_template_columns": null,
            "grid_template_rows": null,
            "height": null,
            "justify_content": null,
            "justify_items": null,
            "left": null,
            "margin": null,
            "max_height": null,
            "max_width": null,
            "min_height": null,
            "min_width": null,
            "object_fit": null,
            "object_position": null,
            "order": null,
            "overflow": null,
            "overflow_x": null,
            "overflow_y": null,
            "padding": null,
            "right": null,
            "top": null,
            "visibility": null,
            "width": null
          }
        },
        "89f41bd1b3eb45ca9d9d6f267f0defc5": {
          "model_module": "@jupyter-widgets/base",
          "model_module_version": "1.2.0",
          "model_name": "LayoutModel",
          "state": {
            "_model_module": "@jupyter-widgets/base",
            "_model_module_version": "1.2.0",
            "_model_name": "LayoutModel",
            "_view_count": null,
            "_view_module": "@jupyter-widgets/base",
            "_view_module_version": "1.2.0",
            "_view_name": "LayoutView",
            "align_content": null,
            "align_items": null,
            "align_self": null,
            "border": null,
            "bottom": null,
            "display": null,
            "flex": null,
            "flex_flow": null,
            "grid_area": null,
            "grid_auto_columns": null,
            "grid_auto_flow": null,
            "grid_auto_rows": null,
            "grid_column": null,
            "grid_gap": null,
            "grid_row": null,
            "grid_template_areas": null,
            "grid_template_columns": null,
            "grid_template_rows": null,
            "height": null,
            "justify_content": null,
            "justify_items": null,
            "left": null,
            "margin": null,
            "max_height": null,
            "max_width": null,
            "min_height": null,
            "min_width": null,
            "object_fit": null,
            "object_position": null,
            "order": null,
            "overflow": null,
            "overflow_x": null,
            "overflow_y": null,
            "padding": null,
            "right": null,
            "top": null,
            "visibility": null,
            "width": null
          }
        },
        "8e6d038b9964433fbb7e8a7435ab2788": {
          "model_module": "@jupyter-widgets/controls",
          "model_module_version": "1.5.0",
          "model_name": "FloatProgressModel",
          "state": {
            "_dom_classes": [],
            "_model_module": "@jupyter-widgets/controls",
            "_model_module_version": "1.5.0",
            "_model_name": "FloatProgressModel",
            "_view_count": null,
            "_view_module": "@jupyter-widgets/controls",
            "_view_module_version": "1.5.0",
            "_view_name": "ProgressView",
            "bar_style": "success",
            "description": "",
            "description_tooltip": null,
            "layout": "IPY_MODEL_69e53a804078418bb70cff0a791cdbe7",
            "max": 69643,
            "min": 0,
            "orientation": "horizontal",
            "style": "IPY_MODEL_3788178f98ce48dd8a2a590a1aaf4552",
            "value": 69643
          }
        },
        "99404817e9594aafa8a8df12df675321": {
          "model_module": "@jupyter-widgets/controls",
          "model_module_version": "1.5.0",
          "model_name": "HTMLModel",
          "state": {
            "_dom_classes": [],
            "_model_module": "@jupyter-widgets/controls",
            "_model_module_version": "1.5.0",
            "_model_name": "HTMLModel",
            "_view_count": null,
            "_view_module": "@jupyter-widgets/controls",
            "_view_module_version": "1.5.0",
            "_view_name": "HTMLView",
            "description": "",
            "description_tooltip": null,
            "layout": "IPY_MODEL_4cdda3eb8e6a4ae1b2a08f69c0f135f1",
            "placeholder": "​",
            "style": "IPY_MODEL_24099b182a394229b1860290950dbad0",
            "value": "config.json: 100%"
          }
        },
        "a6698886dcc14c16aab65671187ef555": {
          "model_module": "@jupyter-widgets/controls",
          "model_module_version": "1.5.0",
          "model_name": "HBoxModel",
          "state": {
            "_dom_classes": [],
            "_model_module": "@jupyter-widgets/controls",
            "_model_module_version": "1.5.0",
            "_model_name": "HBoxModel",
            "_view_count": null,
            "_view_module": "@jupyter-widgets/controls",
            "_view_module_version": "1.5.0",
            "_view_name": "HBoxView",
            "box_style": "",
            "children": [
              "IPY_MODEL_99404817e9594aafa8a8df12df675321",
              "IPY_MODEL_8e6d038b9964433fbb7e8a7435ab2788",
              "IPY_MODEL_22bfa75086f6494db78fbd85ee7cef54"
            ],
            "layout": "IPY_MODEL_bf2f15c90e5a4b20b40a8dd19cbda29b"
          }
        },
        "b699aee110f742848b0f7dccb158a5b9": {
          "model_module": "@jupyter-widgets/controls",
          "model_module_version": "1.5.0",
          "model_name": "DescriptionStyleModel",
          "state": {
            "_model_module": "@jupyter-widgets/controls",
            "_model_module_version": "1.5.0",
            "_model_name": "DescriptionStyleModel",
            "_view_count": null,
            "_view_module": "@jupyter-widgets/base",
            "_view_module_version": "1.2.0",
            "_view_name": "StyleView",
            "description_width": ""
          }
        },
        "bf2f15c90e5a4b20b40a8dd19cbda29b": {
          "model_module": "@jupyter-widgets/base",
          "model_module_version": "1.2.0",
          "model_name": "LayoutModel",
          "state": {
            "_model_module": "@jupyter-widgets/base",
            "_model_module_version": "1.2.0",
            "_model_name": "LayoutModel",
            "_view_count": null,
            "_view_module": "@jupyter-widgets/base",
            "_view_module_version": "1.2.0",
            "_view_name": "LayoutView",
            "align_content": null,
            "align_items": null,
            "align_self": null,
            "border": null,
            "bottom": null,
            "display": null,
            "flex": null,
            "flex_flow": null,
            "grid_area": null,
            "grid_auto_columns": null,
            "grid_auto_flow": null,
            "grid_auto_rows": null,
            "grid_column": null,
            "grid_gap": null,
            "grid_row": null,
            "grid_template_areas": null,
            "grid_template_columns": null,
            "grid_template_rows": null,
            "height": null,
            "justify_content": null,
            "justify_items": null,
            "left": null,
            "margin": null,
            "max_height": null,
            "max_width": null,
            "min_height": null,
            "min_width": null,
            "object_fit": null,
            "object_position": null,
            "order": null,
            "overflow": null,
            "overflow_x": null,
            "overflow_y": null,
            "padding": null,
            "right": null,
            "top": null,
            "visibility": null,
            "width": null
          }
        },
        "e82655d33ef547d2ad4935dd5c891418": {
          "model_module": "@jupyter-widgets/controls",
          "model_module_version": "1.5.0",
          "model_name": "HTMLModel",
          "state": {
            "_dom_classes": [],
            "_model_module": "@jupyter-widgets/controls",
            "_model_module_version": "1.5.0",
            "_model_name": "HTMLModel",
            "_view_count": null,
            "_view_module": "@jupyter-widgets/controls",
            "_view_module_version": "1.5.0",
            "_view_name": "HTMLView",
            "description": "",
            "description_tooltip": null,
            "layout": "IPY_MODEL_0f0808a8943a45658575d885aae6f12a",
            "placeholder": "​",
            "style": "IPY_MODEL_37730725ecc04deda525f21b3b8746ba",
            "value": " 791M/791M [00:33&lt;00:00, 24.5MB/s]"
          }
        },
        "ec9bae26266d45ea9eb48a9921b6c615": {
          "model_module": "@jupyter-widgets/base",
          "model_module_version": "1.2.0",
          "model_name": "LayoutModel",
          "state": {
            "_model_module": "@jupyter-widgets/base",
            "_model_module_version": "1.2.0",
            "_model_name": "LayoutModel",
            "_view_count": null,
            "_view_module": "@jupyter-widgets/base",
            "_view_module_version": "1.2.0",
            "_view_name": "LayoutView",
            "align_content": null,
            "align_items": null,
            "align_self": null,
            "border": null,
            "bottom": null,
            "display": null,
            "flex": null,
            "flex_flow": null,
            "grid_area": null,
            "grid_auto_columns": null,
            "grid_auto_flow": null,
            "grid_auto_rows": null,
            "grid_column": null,
            "grid_gap": null,
            "grid_row": null,
            "grid_template_areas": null,
            "grid_template_columns": null,
            "grid_template_rows": null,
            "height": null,
            "justify_content": null,
            "justify_items": null,
            "left": null,
            "margin": null,
            "max_height": null,
            "max_width": null,
            "min_height": null,
            "min_width": null,
            "object_fit": null,
            "object_position": null,
            "order": null,
            "overflow": null,
            "overflow_x": null,
            "overflow_y": null,
            "padding": null,
            "right": null,
            "top": null,
            "visibility": null,
            "width": null
          }
        },
        "fd4246d96c62415e96adc0fe6389b584": {
          "model_module": "@jupyter-widgets/controls",
          "model_module_version": "1.5.0",
          "model_name": "DescriptionStyleModel",
          "state": {
            "_model_module": "@jupyter-widgets/controls",
            "_model_module_version": "1.5.0",
            "_model_name": "DescriptionStyleModel",
            "_view_count": null,
            "_view_module": "@jupyter-widgets/base",
            "_view_module_version": "1.2.0",
            "_view_name": "StyleView",
            "description_width": ""
          }
        }
      }
    }
  },
  "nbformat": 4,
  "nbformat_minor": 0
}
